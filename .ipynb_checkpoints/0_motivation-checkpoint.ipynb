{
 "cells": [
  {
   "cell_type": "markdown",
   "metadata": {},
   "source": [
    "# Motivating Survival Anlaysis\n",
    "## What Happens When We Leave Out Censored Samples?"
   ]
  },
  {
   "cell_type": "code",
   "execution_count": 2,
   "metadata": {},
   "outputs": [],
   "source": [
    "# importing libraries\n",
    "import numpy as np\n",
    "import matplotlib.pyplot as plt\n",
    "from numpy.random import uniform, exponential\n",
    "from lifelines.plotting import plot_lifetimes"
   ]
  },
  {
   "cell_type": "markdown",
   "metadata": {},
   "source": [
    "#### Plotting the observed lifetimes of samples in a study with t = 10 being the time at which the study ends"
   ]
  },
  {
   "cell_type": "code",
   "execution_count": 3,
   "metadata": {},
   "outputs": [
    {
     "data": {
      "image/png": "[encoded data removed]",
      "text/plain": [
       "<Figure size 432x288 with 1 Axes>"
      ]
     },
     "metadata": {},
     "output_type": "display_data"
    }
   ],
   "source": [
    "N = 25\n",
    "\n",
    "CURRENT_TIME = 10\n",
    "\n",
    "actual_lifetimes = np.array([\n",
    "    exponential(12) if (uniform() < 0.5) else exponential(2) for i in range(N)\n",
    "])\n",
    "observed_lifetimes = np.minimum(actual_lifetimes, CURRENT_TIME)\n",
    "death_observed = actual_lifetimes < CURRENT_TIME\n",
    "\n",
    "ax = plot_lifetimes(observed_lifetimes, event_observed=death_observed)\n",
    "\n",
    "ax.set_xlim(0, 25)\n",
    "ax.vlines(10, 0, 30, lw=2, linestyles='--')\n",
    "ax.set_xlabel(\"Lifetime\")\n",
    "ax.set_title(\"Observed Births and deaths of our population, at $t=10$\")\n",
    "plt.show()\n",
    "# print(\"Observed lifetimes at time %d:\\n\" % (CURRENT_TIME), observed_lifetimes)"
   ]
  },
  {
   "cell_type": "markdown",
   "metadata": {},
   "source": [
    "#### Plotting the actual lifetimes of samples in a study with t = 10 being the time at which the study ends"
   ]
  },
  {
   "cell_type": "code",
   "execution_count": 4,
   "metadata": {},
   "outputs": [
    {
     "data": {
      "image/png": "[encoded data removed]",
      "text/plain": [
       "<Figure size 432x288 with 1 Axes>"
      ]
     },
     "metadata": {},
     "output_type": "display_data"
    }
   ],
   "source": [
    "ax = plot_lifetimes(actual_lifetimes, event_observed=death_observed)\n",
    "ax.set_xlabel(\"Lifetime\")\n",
    "ax.set_title(\"Actual Births and deaths of our population, at $t=10$\")\n",
    "ax.vlines(10, 0, 30, lw=2, linestyles='--')\n",
    "ax.set_xlim(0, 25)\n",
    "plt.show()"
   ]
  },
  {
   "cell_type": "markdown",
   "metadata": {},
   "source": [
    "#### Calculating and printing mean lifetimes for only observed deaths, observed and censored data, actual lifetime data"
   ]
  },
  {
   "cell_type": "code",
   "execution_count": 5,
   "metadata": {},
   "outputs": [],
   "source": [
    "mean_lifetime_with_observed_data = np.mean(observed_lifetimes[actual_lifetimes < CURRENT_TIME])\n",
    "mean_lifetime_with_observed_censored = np.mean(observed_lifetimes)\n",
    "mean_lifetime_actual = np.mean(actual_lifetimes)"
   ]
  },
  {
   "cell_type": "code",
   "execution_count": 6,
   "metadata": {},
   "outputs": [
    {
     "name": "stdout",
     "output_type": "stream",
     "text": [
      "Mean Lifetime estimate using only observed deaths 2.8529690149645006\n",
      "Mean Lifetime estimate using only observed and censored deaths 3.424731493767341\n",
      "Mean Lifetime estimate using actual lifetimes 4.875985268431524\n"
     ]
    }
   ],
   "source": [
    "print('Mean Lifetime estimate using only observed deaths {}'.format(mean_lifetime_with_observed_data))\n",
    "print('Mean Lifetime estimate using only observed and censored deaths {}'.format(mean_lifetime_with_observed_censored))\n",
    "print('Mean Lifetime estimate using actual lifetimes {}'.format(mean_lifetime_actual))"
   ]
  },
  {
   "cell_type": "markdown",
   "metadata": {},
   "source": [
    "## We see that by omitting the censored sample or by taking the end time of study as the lifetime of censored samples, we underestimate the mean lifetimes of the samples. \n",
    "\n",
    "## This motivates us to develop techniques which can handle censored samples with ease"
   ]
  },
  {
   "cell_type": "code",
   "execution_count": null,
   "metadata": {},
   "outputs": [],
   "source": []
  }
 ],
 "metadata": {
  "kernelspec": {
   "display_name": "Python 3",
   "language": "python",
   "name": "python3"
  },
  "language_info": {
   "codemirror_mode": {
    "name": "ipython",
    "version": 3
   },
   "file_extension": ".py",
   "mimetype": "text/x-python",
   "name": "python",
   "nbconvert_exporter": "python",
   "pygments_lexer": "ipython3",
   "version": "3.7.4"
  }
 },
 "nbformat": 4,
 "nbformat_minor": 2
}
