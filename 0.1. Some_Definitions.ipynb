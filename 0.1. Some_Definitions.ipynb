{
 "cells": [
  {
   "cell_type": "code",
   "execution_count": 100,
   "metadata": {},
   "outputs": [],
   "source": [
    "import random\n",
    "import numpy as np\n",
    "import pandas as pd\n",
    "import seaborn as sns\n",
    "import matplotlib.pyplot as plt\n",
    "pd.set_option('display.max_rows', 30)"
   ]
  },
  {
   "cell_type": "code",
   "execution_count": 101,
   "metadata": {},
   "outputs": [],
   "source": [
    "df = pd.DataFrame(index = ['Start', 'End'], \n",
    "                  columns = ['S{}'.format(i) for i in np.arange(10)])"
   ]
  },
  {
   "cell_type": "code",
   "execution_count": 102,
   "metadata": {},
   "outputs": [],
   "source": [
    "def fill(x):\n",
    "    start = random.randint(4, 10)\n",
    "    end = random.randint(17, 20)\n",
    "    \n",
    "    return [start, end]\n",
    "\n",
    "df = df.apply(lambda x: fill(x), axis = 0)"
   ]
  },
  {
   "cell_type": "code",
   "execution_count": 103,
   "metadata": {},
   "outputs": [],
   "source": [
    "def checkCensor(x, l, u):\n",
    "    \n",
    "    if x['Start'] < l and x['End'] > u:\n",
    "        return 'Both'\n",
    "    elif x['Start'] < l:\n",
    "        return 'Left'\n",
    "    elif x['End'] > u:\n",
    "        return 'Right'\n",
    "    else:\n",
    "        return 'Observed'"
   ]
  },
  {
   "cell_type": "code",
   "execution_count": 104,
   "metadata": {},
   "outputs": [],
   "source": [
    "start = 7\n",
    "end = 18"
   ]
  },
  {
   "cell_type": "code",
   "execution_count": 105,
   "metadata": {},
   "outputs": [],
   "source": [
    "df.loc['Censorship', :] = df.apply(lambda x: checkCensor(x, start, end), axis = 0)"
   ]
  },
  {
   "cell_type": "code",
   "execution_count": 106,
   "metadata": {},
   "outputs": [],
   "source": [
    "color_dict = {'Both': 'grey', 'Left': 'blue', 'Right': 'red', 'Observed': 'green'}"
   ]
  },
  {
   "cell_type": "code",
   "execution_count": 111,
   "metadata": {},
   "outputs": [],
   "source": [
    "df_comp = df\n",
    "# df = df[df.loc['Censorship', :] != 'Both']"
   ]
  },
  {
   "cell_type": "code",
   "execution_count": 113,
   "metadata": {},
   "outputs": [
    {
     "data": {
      "image/png": "[encoded data removed]",
      "text/plain": [
       "<Figure size 1080x360 with 1 Axes>"
      ]
     },
     "metadata": {},
     "output_type": "display_data"
    }
   ],
   "source": [
    "f, ax = plt.subplots(1, 1, figsize = (15, 5))\n",
    "for i in range(10):\n",
    "    ax.hlines(i, df.loc['Start', 'S{}'.format(i)], \n",
    "              df.loc['End', 'S{}'.format(i)], lw=1.5, color = color_dict[df.loc['Censorship', 'S{}'.format(i)]], label = df.loc['Censorship', 'S{}'.format(i)])\n",
    "    if(df.loc['Start', 'S{}'.format(i)] >= start):\n",
    "        ax.scatter(df.loc['Start', 'S{}'.format(i)], i, c = color_dict[df.loc['Censorship', 'S{}'.format(i)]], marker = \"o\", s = 10)\n",
    "    if(df.loc['End', 'S{}'.format(i)] <= end):\n",
    "        ax.scatter(df.loc['End', 'S{}'.format(i)], i, c = color_dict[df.loc['Censorship', 'S{}'.format(i)]], marker = \"o\", s = 10)\n",
    "        \n",
    "ax.vlines(7, ymin = -1, ymax = 10, color = 'black', linestyles = '--')\n",
    "ax.vlines(18, ymin = -1, ymax = 10, color = 'black', linestyles = '--')\n",
    "\n",
    "handles, labels = plt.gca().get_legend_handles_labels()\n",
    "by_label = dict(zip(labels, handles))\n",
    "\n",
    "plt.legend(by_label.values(), by_label.keys(), loc='center left', bbox_to_anchor=(1, 0.5))\n",
    "plt.ylabel('Entities Observed')\n",
    "plt.xlabel('Time (Hours)')\n",
    "plt.title('Lifetime Plot showing Censored and Uncensored Data Points')\n",
    "plt.show()"
   ]
  },
  {
   "cell_type": "code",
   "execution_count": null,
   "metadata": {},
   "outputs": [],
   "source": []
  }
 ],
 "metadata": {
  "kernelspec": {
   "display_name": "Python 3",
   "language": "python",
   "name": "python3"
  },
  "language_info": {
   "codemirror_mode": {
    "name": "ipython",
    "version": 3
   },
   "file_extension": ".py",
   "mimetype": "text/x-python",
   "name": "python",
   "nbconvert_exporter": "python",
   "pygments_lexer": "ipython3",
   "version": "3.5.4"
  },
  "toc": {
   "base_numbering": 1,
   "nav_menu": {},
   "number_sections": true,
   "sideBar": true,
   "skip_h1_title": false,
   "title_cell": "Table of Contents",
   "title_sidebar": "Contents",
   "toc_cell": false,
   "toc_position": {},
   "toc_section_display": true,
   "toc_window_display": false
  }
 },
 "nbformat": 4,
 "nbformat_minor": 2
}
